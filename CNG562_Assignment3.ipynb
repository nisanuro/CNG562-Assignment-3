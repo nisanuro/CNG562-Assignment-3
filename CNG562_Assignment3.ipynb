{
  "nbformat": 4,
  "nbformat_minor": 0,
  "metadata": {
    "colab": {
      "name": "CNG562_Assignment3.ipynb",
      "provenance": [],
      "include_colab_link": true
    },
    "kernelspec": {
      "name": "python3",
      "display_name": "Python 3"
    }
  },
  "cells": [
    {
      "cell_type": "markdown",
      "metadata": {
        "id": "view-in-github",
        "colab_type": "text"
      },
      "source": [
        "<a href=\"https://colab.research.google.com/github/nisanuro/CNG562-Assignment-3/blob/master/CNG562_Assignment3.ipynb\" target=\"_parent\"><img src=\"https://colab.research.google.com/assets/colab-badge.svg\" alt=\"Open In Colab\"/></a>"
      ]
    },
    {
      "cell_type": "code",
      "metadata": {
        "id": "gKiuqTOPUoYs",
        "colab_type": "code",
        "colab": {}
      },
      "source": [
        "import seaborn as sns\n",
        "import numpy as np\n",
        "import pandas as pd\n",
        "import matplotlib.pyplot as plt  \n",
        "from sklearn.model_selection import train_test_split, KFold, StratifiedKFold, cross_val_score\n",
        "from sklearn import metrics, datasets, preprocessing\n",
        "from sklearn.datasets import load_breast_cancer \n",
        "from sklearn.preprocessing import StandardScaler\n",
        "from sklearn.decomposition import PCA\n",
        "from sklearn.cluster import KMeans, DBSCAN\n",
        "from sklearn.neighbors import NearestNeighbors\n",
        "from sklearn.metrics import silhouette_score\n",
        "from sklearn.preprocessing import MinMaxScaler\n",
        "from sklearn.metrics import confusion_matrix\n",
        "%matplotlib inline"
      ],
      "execution_count": 0,
      "outputs": []
    },
    {
      "cell_type": "code",
      "metadata": {
        "id": "Vv4LWKTaXUFl",
        "colab_type": "code",
        "colab": {}
      },
      "source": [
        "def correlation_map(df):\n",
        "    plt.figure(figsize=(20,12)) \n",
        "\n",
        "    corr = df.corr()\n",
        "    sns.heatmap(corr, annot=True, cmap='hot')\n",
        "    plt.show()"
      ],
      "execution_count": 0,
      "outputs": []
    },
    {
      "cell_type": "code",
      "metadata": {
        "id": "vSdDSDTJXXvB",
        "colab_type": "code",
        "colab": {}
      },
      "source": [
        "def filter_features(data, feature_indexes):\n",
        "\t\t# eliminate above column indices from the data and return new set\n",
        "\t\tfiltered_data = np.delete(data, feature_indexes, axis=1)\n",
        "\n",
        "\t\treturn filtered_data"
      ],
      "execution_count": 0,
      "outputs": []
    },
    {
      "cell_type": "code",
      "metadata": {
        "id": "RFxmZa8fXeR8",
        "colab_type": "code",
        "colab": {}
      },
      "source": [
        "def fourError(X, Y, model, r, future_scaling):\n",
        "    X_train, X_test, Y_train, Y_test = train_test_split(X, Y, test_size=0.3, random_state = r, stratify=Y)\n",
        "    \n",
        "    if(future_scaling):\n",
        "        sc = StandardScaler()\n",
        "        X_train = sc.fit_transform(X_train)\n",
        "        X_test = sc.transform(X_test)\n",
        "    \n",
        "    Train_x, TrainDev_x, Train_y, TrainDev_y = train_test_split(X_train, Y_train, test_size=0.2, random_state=0, stratify=Y_train)\n",
        "    Dev_x, Test_x, Dev_y, Test_y = train_test_split(X_test, Y_test, test_size=0.5, random_state=0, stratify=Y_test)\n",
        "\n",
        "    model.fit(Train_x, Train_y)\n",
        "\n",
        "    y_true, trainDev_pred = TrainDev_y, model.predict(TrainDev_x)\n",
        "\n",
        "    print(\"\\nTrain-Train Dev,   e1:\", metrics.mean_squared_error(TrainDev_y, trainDev_pred))\n",
        "    print(\"Accuracy: \", 1 - metrics.mean_squared_error(TrainDev_y, trainDev_pred),\"\\n\")\n",
        "\n",
        "    y_true, dev_pred = Dev_y, model.predict(Dev_x)\n",
        "    print(\"Train-Dev,   e2\", metrics.mean_squared_error(Dev_y, dev_pred))\n",
        "    print(\"Accuracy: \", 1 - metrics.mean_squared_error(Dev_y, dev_pred),\"\\n\")\n",
        "\n",
        "    y_true, test_pred = Test_y, model.predict(Test_x)\n",
        "    print(\"Train-Test,   e3: \", metrics.mean_squared_error(Test_y, test_pred))\n",
        "    print(\"Accuracy: \", 1 - metrics.mean_squared_error(Test_y, test_pred),\"\\n\")\n",
        "\n",
        "    y_true, devTest_pred = Y_test, model.predict(X_test)\n",
        "    print(\"Train-(Dev+Test),   e4: \", metrics.mean_squared_error(Y_test, devTest_pred))\n",
        "    print(\"Accuracy: \", 1 - metrics.mean_squared_error(Y_test, devTest_pred),\"\\n\")"
      ],
      "execution_count": 0,
      "outputs": []
    },
    {
      "cell_type": "code",
      "metadata": {
        "id": "G-6caNUiYCRz",
        "colab_type": "code",
        "colab": {}
      },
      "source": [
        "def vis_all_feat(data, class_):\n",
        "    for col_ind in range(data.shape[1]):\n",
        "\t\t    print(\"Viewing Feature #{0}\".format(str(col_ind)))\n",
        "\t\t    vis_single_feat(data, class_, col_ind)"
      ],
      "execution_count": 0,
      "outputs": []
    },
    {
      "cell_type": "code",
      "metadata": {
        "id": "0oiSxcKlaVoM",
        "colab_type": "code",
        "colab": {}
      },
      "source": [
        "def vis_single_feat(data, class_, ind):\n",
        "\t  # create graph of classification and feature values\t\n",
        "\t  plt.figure(100) # display two plots on separate figures\n",
        "\t  df = pd.DataFrame(data)\n",
        "\t  feat_vals = df.iloc[:, ind]\n",
        "\t  plt.scatter(feat_vals, class_)\n",
        "\t  plt.title(\"Plot of Feature {0}\".format(str(ind)))\n",
        "\t  plt.xlabel(\"Feature Value\")\n",
        "\t  plt.ylabel(\"Classification\")\n",
        "  \n",
        "\t  # create bar graph of mean feature values for each classification\n",
        "\t  plt.figure(200)\n",
        "\t  plt.title(\"Mean Values of Feature {0}\".format(str(ind)))\n",
        "\t  plt.xlabel(\"Classification\")\n",
        "\t  plt.ylabel(\"Mean Feature Value\")\n",
        "\t  mean_df = pd.concat([df.iloc[:, ind], pd.Series(class_)], axis=1)\n",
        "\t  mean_df.columns = [\"values\", \"classif\"]\t\n",
        "\t  mean_df.groupby(\"classif\", as_index=False)[\"values\"].mean().loc[:,\"values\"].plot(kind='bar')\n",
        "  \n",
        "\t  plt.show()"
      ],
      "execution_count": 0,
      "outputs": []
    },
    {
      "cell_type": "code",
      "metadata": {
        "id": "X_rIt_ZdfqDP",
        "colab_type": "code",
        "colab": {}
      },
      "source": [
        "def dbScan(X, Y, eps = 0.5, min = 5, distance = \"euclidean\"):\n",
        "    dbs = DBSCAN(eps=eps, min_samples=min, metric=distance, algorithm=\"brute\", n_jobs=-1)\n",
        "    \n",
        "    X_train, X_test, Y_train, Y_test = train_test_split(X, Y, test_size=0.3, random_state=0, stratify=Y)\n",
        "    \n",
        "    pred = dbs.fit_predict(X_train)\n",
        "\n",
        "    score = silhouette_score(X_train, pred)\n",
        "\n",
        "    print(\"Score: {}\".format(score))\n",
        "    #print(confusion_matrix(Y_train, pred))"
      ],
      "execution_count": 0,
      "outputs": []
    },
    {
      "cell_type": "code",
      "metadata": {
        "id": "YRLldXbodvDl",
        "colab_type": "code",
        "colab": {}
      },
      "source": [
        "def optimize_eps():\n",
        "    neigh = NearestNeighbors(n_neighbors=4)\n",
        "    nbrs = neigh.fit(X)\n",
        "    distances, indices = nbrs.kneighbors(X)\n",
        "\n",
        "    distances = np.sort(distances, axis=0)\n",
        "    distances = distances[:,1]\n",
        "    plt.plot(distances)"
      ],
      "execution_count": 0,
      "outputs": []
    },
    {
      "cell_type": "code",
      "metadata": {
        "id": "1YRJed7fflAA",
        "colab_type": "code",
        "colab": {}
      },
      "source": [
        "def optimize_model(X, Y):\n",
        "    eps = [0.3, 0.4, 0.5, 0.6, 0.7, 0.8, 0.9, 1]\n",
        "    for i in eps:\n",
        "        dbScan(X, Y, eps=i)\n",
        "    #eps = 0.8\n",
        "    \n",
        "    #for i in range(1, 7):\n",
        "    #    dbScan(X, Y, eps=0.6, min = i)\n",
        "    #min = 2,3\n",
        "    \n",
        "    metric = [\"euclidean\", \"manhattan\"]\n",
        "\n",
        "    #for i in metric:\n",
        "    #    dbScan(X, Y, eps=0.8, min=1, distance=i)\n",
        "    #euclidean, chebyshev"
      ],
      "execution_count": 0,
      "outputs": []
    },
    {
      "cell_type": "code",
      "metadata": {
        "id": "An-MeMXd3cNM",
        "colab_type": "code",
        "colab": {}
      },
      "source": [
        "def acc(X_train, X_test, Y_train, Y_test):\n",
        "    model = DBSCAN(eps=0.8, min_samples=2, metric=\"euclidean\", algorithm=\"brute\", n_jobs=-1)\n",
        "\n",
        "    #pred = model.predict(X_test)\n",
        "    #print(confusion_matrix(Y_test, pred))\n",
        "    prediction = model.fit_predict(X_train)\n",
        "\n",
        "    correct = 0\n",
        "    for i in range(len(Y_train)):\n",
        "        if prediction[i] == Y_train[i]:\n",
        "            correct += 1\n",
        "\n",
        "    print(correct/len(X_train))"
      ],
      "execution_count": 0,
      "outputs": []
    },
    {
      "cell_type": "code",
      "metadata": {
        "id": "NS38fnJIa0jx",
        "colab_type": "code",
        "colab": {
          "base_uri": "https://localhost:8080/",
          "height": 119
        },
        "outputId": "0f98ca5b-667f-4cb6-9feb-51c82a4edcfa"
      },
      "source": [
        "if __name__ == '__main__':\n",
        "\n",
        "    breast_cancer = datasets.load_breast_cancer()\n",
        "    X = breast_cancer.data\n",
        "    Y = breast_cancer.target\n",
        "    \n",
        "    X = filter_features(X, [2, 3, 20, 22, 23, 12, 13])\n",
        "\n",
        "    #vis_all_feat(X, Y)\n",
        "    X = filter_features(X, [1, 2, 6, 7, 9, 10, 14, 15])\n",
        "    scaler = MinMaxScaler()\n",
        "    scaler.fit(X)\n",
        "    X = scaler.transform(X)\n",
        "    #optimize_eps()\n",
        "    X_train, X_test, Y_train, Y_test = train_test_split(X, Y, test_size=0.2, random_state=0, stratify=Y)\n",
        "    #acc(X_train, X_test, Y_train, Y_test)\n",
        "    optimize_model(X, Y)"
      ],
      "execution_count": 233,
      "outputs": [
        {
          "output_type": "stream",
          "text": [
            "Score: 0.4394216507301296\n",
            "Score: 0.5101290973488284\n",
            "Score: 0.5101290973488284\n",
            "Score: 0.5101290973488284\n",
            "Score: 0.5101290973488284\n",
            "Score: 0.5101290973488284\n"
          ],
          "name": "stdout"
        }
      ]
    },
    {
      "cell_type": "code",
      "metadata": {
        "id": "2DSqEtYr6I95",
        "colab_type": "code",
        "colab": {}
      },
      "source": [
        ""
      ],
      "execution_count": 0,
      "outputs": []
    }
  ]
}