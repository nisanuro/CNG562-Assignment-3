{
  "nbformat": 4,
  "nbformat_minor": 0,
  "metadata": {
    "colab": {
      "name": "CNG562_Assignment3.ipynb",
      "provenance": [],
      "authorship_tag": "ABX9TyM4mL/qyo96ul6NltgJ/hKC",
      "include_colab_link": true
    },
    "kernelspec": {
      "name": "python3",
      "display_name": "Python 3"
    }
  },
  "cells": [
    {
      "cell_type": "markdown",
      "metadata": {
        "id": "view-in-github",
        "colab_type": "text"
      },
      "source": [
        "<a href=\"https://colab.research.google.com/github/nisanuro/CNG562-Assignment-3/blob/master/CNG562_Assignment3.ipynb\" target=\"_parent\"><img src=\"https://colab.research.google.com/assets/colab-badge.svg\" alt=\"Open In Colab\"/></a>"
      ]
    },
    {
      "cell_type": "code",
      "metadata": {
        "id": "gKiuqTOPUoYs",
        "colab_type": "code",
        "colab": {}
      },
      "source": [
        "import seaborn as sns\n",
        "import numpy as np\n",
        "import pandas as pd\n",
        "import matplotlib.pyplot as plt  \n",
        "from sklearn.model_selection import train_test_split, KFold, StratifiedKFold, cross_val_score\n",
        "from sklearn import metrics, datasets, preprocessing\n",
        "from sklearn.datasets import load_breast_cancer \n",
        "from sklearn.preprocessing import StandardScaler\n",
        "from sklearn.decomposition import PCA\n",
        "from sklearn.cluster import KMeans, DBSCAN\n",
        "\n",
        "%matplotlib inline"
      ],
      "execution_count": 0,
      "outputs": []
    },
    {
      "cell_type": "code",
      "metadata": {
        "id": "Vv4LWKTaXUFl",
        "colab_type": "code",
        "colab": {}
      },
      "source": [
        "def correlation_map(df):\n",
        "    plt.figure(figsize=(20,12)) \n",
        "\n",
        "    corr = df.corr()\n",
        "    sns.heatmap(corr, annot=True, cmap='hot')\n",
        "    plt.show()"
      ],
      "execution_count": 0,
      "outputs": []
    },
    {
      "cell_type": "code",
      "metadata": {
        "id": "vSdDSDTJXXvB",
        "colab_type": "code",
        "colab": {}
      },
      "source": [
        "def filter_features(data, feature_indexes):\n",
        "\t# eliminate above column indices from the data and return new set\n",
        "\tfiltered_data = np.delete(data, feature_indexes, axis=1)\n",
        "\n",
        "\treturn filtered_data"
      ],
      "execution_count": 0,
      "outputs": []
    },
    {
      "cell_type": "code",
      "metadata": {
        "id": "RFxmZa8fXeR8",
        "colab_type": "code",
        "colab": {}
      },
      "source": [
        "def fourError(X, Y, model, r, future_scaling):\n",
        "    X_train, X_test, Y_train, Y_test = train_test_split(X, Y, test_size=0.3, random_state = r, stratify=Y)\n",
        "    \n",
        "    if(future_scaling):\n",
        "        sc = StandardScaler()\n",
        "        X_train = sc.fit_transform(X_train)\n",
        "        X_test = sc.transform(X_test)\n",
        "    \n",
        "    Train_x, TrainDev_x, Train_y, TrainDev_y = train_test_split(X_train, Y_train, test_size=0.2, random_state=0, stratify=Y_train)\n",
        "    Dev_x, Test_x, Dev_y, Test_y = train_test_split(X_test, Y_test, test_size=0.5, random_state=0, stratify=Y_test)\n",
        "\n",
        "    model.fit(Train_x, Train_y)\n",
        "\n",
        "    y_true, trainDev_pred = TrainDev_y, model.predict(TrainDev_x)\n",
        "\n",
        "    print(\"\\nTrain-Train Dev,   e1:\", metrics.mean_squared_error(TrainDev_y, trainDev_pred))\n",
        "    print(\"Accuracy: \", 1 - metrics.mean_squared_error(TrainDev_y, trainDev_pred),\"\\n\")\n",
        "\n",
        "    y_true, dev_pred = Dev_y, model.predict(Dev_x)\n",
        "    print(\"Train-Dev,   e2\", metrics.mean_squared_error(Dev_y, dev_pred))\n",
        "    print(\"Accuracy: \", 1 - metrics.mean_squared_error(Dev_y, dev_pred),\"\\n\")\n",
        "\n",
        "    y_true, test_pred = Test_y, model.predict(Test_x)\n",
        "    print(\"Train-Test,   e3: \", metrics.mean_squared_error(Test_y, test_pred))\n",
        "    print(\"Accuracy: \", 1 - metrics.mean_squared_error(Test_y, test_pred),\"\\n\")\n",
        "\n",
        "    y_true, devTest_pred = Y_test, model.predict(X_test)\n",
        "    print(\"Train-(Dev+Test),   e4: \", metrics.mean_squared_error(Y_test, devTest_pred))\n",
        "    print(\"Accuracy: \", 1 - metrics.mean_squared_error(Y_test, devTest_pred),\"\\n\")"
      ],
      "execution_count": 0,
      "outputs": []
    },
    {
      "cell_type": "code",
      "metadata": {
        "id": "G-6caNUiYCRz",
        "colab_type": "code",
        "colab": {}
      },
      "source": [
        ""
      ],
      "execution_count": 0,
      "outputs": []
    }
  ]
}